{
  "cells": [
    {
      "cell_type": "markdown",
      "metadata": {},
      "source": [
        "# Using Large Language Models to Identify Financial Concepts from 10-K\n",
        "\n",
        "Reports\n",
        "\n",
        "See\n",
        "[here](https://github.com/calvinw/BusMgmtBenchmarks/blob/main/extract/llm_for_10K_financial_data.ipynb)\n",
        "for a colab notebook version of this document.\n",
        "\n",
        "In this notebook we give the idea behind the extraction technique we use\n",
        "to get financial facts from annual 10-K reports. The main idea involves\n",
        "calling an LLM with a version of the income statement and the balance\n",
        "sheet from a 10-K annual report and asking it to identify some financial\n",
        "concepts we are interested in.\n",
        "\n",
        "We will use the amazingly useful\n",
        "[edgartools](https://github.com/dgunning/edgartools) package for\n",
        "filtering and finding the SEC 10-K filings for our companies.\n",
        "\n",
        "For each of our companies we are interested in identifying these\n",
        "concepts from company 10-K reports:\n",
        "\n",
        "-   Net Revenue\n",
        "-   Cost of Goods\n",
        "-   SG&A\n",
        "-   Operating Profit\n",
        "-   Net Profit\n",
        "-   Inventory\n",
        "-   Current Assets\n",
        "-   Total Assets\n",
        "-   Current Liabilities\n",
        "-   Total Shareholder Equity\n",
        "-   Total Liabilities and Shareholder Equity\n",
        "\n",
        "The reason we want to do this is so that we can build a tool that will\n",
        "allow you to easily compare these values for different companies and for\n",
        "companies and segments they belong to.\n",
        "\n",
        "We will find the latest 10-K by using the\n",
        "[edgartools](https://github.com/dgunning/edgartools) package. The code\n",
        "behind the library is a very efficient API front end for queries to the\n",
        "SEC edgar REST api.\n",
        "\n",
        "Of course once you have a mapping of the labels in the report to the\n",
        "standard gaap attributes taxonomy for the company you are interested in\n",
        "you could look the facts labeled with those attribute names on\n",
        "subsequent reports from the same company. We dont illustrate that but it\n",
        "makes sense if you need want to optimize looking up this information for\n",
        "multiple years for the same company and speed and if LLM costs are an\n",
        "issue.\n",
        "\n",
        "Our dataset is so small and the LLM costs are minimal for what we want\n",
        "so we dont pursue that kind of optimization."
      ],
      "id": "c9e02eb4-2af0-4817-859f-072b04741850"
    },
    {
      "cell_type": "code",
      "execution_count": null,
      "metadata": {},
      "outputs": [],
      "source": [
        "!pip install edgartools\n",
        "!pip install openai\n",
        "!pip install python-dotenv "
      ],
      "id": "41515ffa"
    },
    {
      "cell_type": "markdown",
      "metadata": {},
      "source": [
        "## Using Edgartools to Load the 10K for a Company\n",
        "\n",
        "You must set your name and company email address in order for edgartools\n",
        "to access the SEC edgar website"
      ],
      "id": "bb60c5de-90a4-4975-a029-144b17c9be4a"
    },
    {
      "cell_type": "code",
      "execution_count": null,
      "metadata": {},
      "outputs": [],
      "source": [
        "from edgar import set_identity, Company\n",
        "import pandas as pd\n",
        "\n",
        "# Set identity\n",
        "set_identity(\"your_name company_email.com\")\n",
        "\n",
        "# Use the CIK for walmart\n",
        "cik = \"0000104169\"  \n",
        "\n",
        "# Get the company object using the CIK\n",
        "company = Company(cik)\n",
        "\n",
        "# Fetch the 10-K filings\n",
        "filings = company.get_filings(form=\"10-K\")\n",
        "\n",
        "# Just get the latest 10-K\n",
        "filing = filings[0]\n",
        "walmart = filing.obj()"
      ],
      "id": "f7dd6311"
    },
    {
      "cell_type": "markdown",
      "metadata": {},
      "source": [
        "## Getting the Income Statement and the Balance Sheet as Dataframe\n",
        "\n",
        "This gets the latest income statement as a dataframe. Since the first\n",
        "column is labels, the data we want is usually in the second column so we\n",
        "use iloc to drop all but the first and second column. The rest of the\n",
        "columns usually have past 2 years before the current year so people can\n",
        "compare, but we dont need to pass those columns to the LLM so we drop\n",
        "them here"
      ],
      "id": "9c1ef6d1-4ead-4a88-b73b-7759a8d2ff3d"
    },
    {
      "cell_type": "code",
      "execution_count": null,
      "metadata": {},
      "outputs": [],
      "source": [
        "income_df = walmart.income_statement.to_dataframe()\n",
        "income_df = income_df.iloc[:, :1]\n",
        "print(income_df)"
      ],
      "id": "897d3509"
    },
    {
      "cell_type": "markdown",
      "metadata": {},
      "source": [
        "This gets the latest balance statement as a dataframe. Again we just\n",
        "keep the labels and the first column that has the data we want in it"
      ],
      "id": "9d0ab434-c357-4b11-8dc7-8d08d8b4ebde"
    },
    {
      "cell_type": "code",
      "execution_count": null,
      "metadata": {},
      "outputs": [],
      "source": [
        "balance_df = walmart.balance_sheet.to_dataframe()\n",
        "balance_df = balance_df.iloc[:, :1]\n",
        "print(balance_df)"
      ],
      "id": "13e28eac"
    },
    {
      "cell_type": "markdown",
      "metadata": {},
      "source": [
        "## Compare to SEC Filing Web Page\n",
        "\n",
        "You can compare these to a copy of the report filed by the company with\n",
        "the SEC. The following html is included in company’s official report to\n",
        "the SEC and we just reproduce it here so you can compare. Every 10-K has\n",
        "this kind of html page and its any easy reference for seeing if we\n",
        "pulled the right values."
      ],
      "id": "7562f8ee-0e9d-43fe-a77c-b3e9d75ce009"
    },
    {
      "cell_type": "code",
      "execution_count": null,
      "metadata": {},
      "outputs": [],
      "source": [
        "from IPython.display import IFrame\n",
        "\n",
        "IFrame(src=\"https://calvinw.github.io/BusMgmtBenchmarks/extract/html/walmart-2024.html\", width=900, height=900)"
      ],
      "id": "b78b405a"
    },
    {
      "cell_type": "markdown",
      "metadata": {},
      "source": [
        "## Convert the Dataframes to Markdown to Prepare for LLM Call\n",
        "\n",
        "We convert the data froms to markdown tables to prepare to send them to\n",
        "an LLM\n",
        "\n",
        "Here is the income statement as markdown:"
      ],
      "id": "dccf27be-08fc-4133-8e3f-438c60fbf509"
    },
    {
      "cell_type": "code",
      "execution_count": null,
      "metadata": {},
      "outputs": [],
      "source": [
        "income_markdown_table = income_df.to_markdown(index=True, floatfmt=\".0f\")\n",
        "print(income_markdown_table)"
      ],
      "id": "805b299a"
    },
    {
      "cell_type": "markdown",
      "metadata": {},
      "source": [
        "And the balance sheet as markdown:"
      ],
      "id": "7c7258cc-6e97-496b-b628-de4e0aaec666"
    },
    {
      "cell_type": "code",
      "execution_count": null,
      "metadata": {},
      "outputs": [],
      "source": [
        "balance_markdown_table = balance_df.to_markdown(index=True, floatfmt=\".0f\")\n",
        "print(balance_markdown_table)"
      ],
      "id": "8a8842f4"
    },
    {
      "cell_type": "markdown",
      "metadata": {},
      "source": [
        "## Prepare a Prompt for Passing the Income Statement and Balance Sheet\n",
        "\n",
        "Now we prepare a prompt to send both the income and balance sheets to\n",
        "the LLM and ask it to find some financial concepts for us. There are\n",
        "many variations of this process, you could also give common terms that\n",
        "you would find these concepts labeled as, or could include the us_gaap\n",
        "taxonomy names for some of the concepts as well.\n",
        "\n",
        "The dataframes above actually are indexed with the gaap or other\n",
        "attribute name that corresponds to each of the quantities above.\n",
        "\n",
        "We just rely on the LLM recognizing the concept from the labels in the\n",
        "first column of the income statement and the balance report."
      ],
      "id": "f1b98a75-7450-4373-ac61-a255db893a7a"
    },
    {
      "cell_type": "code",
      "execution_count": null,
      "metadata": {},
      "outputs": [],
      "source": [
        "prompt = f\"\"\"Below is a list of financial concepts related to the income sheet\n",
        "part of a 10-K report. Find the following financial concepts and values for the\n",
        "latest year.\n",
        "\n",
        "<concepts>\n",
        "Net Revenue\n",
        "Cost of Goods\n",
        "SG&A\n",
        "Operating Profit\n",
        "Net Profit\n",
        "Inventory\n",
        "Current Assets\n",
        "Total Assets\n",
        "Current Liabilities\n",
        "Total Shareholder Equity\n",
        "Total Liabilities and Shareholder Equity\n",
        "</concepts>\n",
        "\n",
        "Here is the income statement:\n",
        "\n",
        "<income_statement>\n",
        "{income_markdown_table}\n",
        "</income_statement>\n",
        "\n",
        "Here is the balance sheet is:\n",
        "\n",
        "<balance_sheet>\n",
        "{balance_markdown_table}\n",
        "</balance_sheet>\n",
        "\n",
        "Please return the values found as strings in a json format as follows. Make\n",
        "sure to provide a number for every concept. Respond only with with the\n",
        "following format, no other commentary or discussion\n",
        "\n",
        "Example Response Format:\n",
        "```json\n",
        "{{\n",
        "    \"Net Revenue\": << the value found >>,\n",
        "    \"Cost of Goods\": << the value found >> \n",
        "    \"SG&A\": << the value found >>,\n",
        "    \"Operating Profit\": << the value found >>,\n",
        "    \"Net Profit\": << the value found >>,\n",
        "    \"Inventory\": << the value found >>,\n",
        "    \"Current Assets\": << the value found >>,\n",
        "    \"Total Assets\": << the value found >>,\n",
        "    \"Current Liabilities\": << the value found >>,\n",
        "    \"Total Shareholder Equity\": << the value found >>,\n",
        "    \"Total Liabilities and Shareholder Equity\": << the value found >>\n",
        "}}\n",
        "```\"\"\""
      ],
      "id": "0a15ae56"
    },
    {
      "cell_type": "markdown",
      "metadata": {},
      "source": [
        "Lets take a look at the prompt before we send it:"
      ],
      "id": "e7b76c44-6932-4d6d-a5e7-c081ca8a323e"
    },
    {
      "cell_type": "code",
      "execution_count": null,
      "metadata": {},
      "outputs": [],
      "source": [
        "print(prompt)"
      ],
      "id": "e81beb9f"
    },
    {
      "cell_type": "markdown",
      "metadata": {},
      "source": [
        "## Pass the Prompt to an Large Language Model\n",
        "\n",
        "We use openai compatible call to OpenRouter but you could use any openai\n",
        "compatible api and key. A good one at the time of writing this is\n",
        "DeepSeek V3, but many models would work well here. I believe many of the\n",
        "lightweight 8B models would work. Gemini Flash 1.5 or 2.0, gpt-4o-mini.\n",
        "Im sure there are many of the more inexpensive models would work fine.\n",
        "\n",
        "### Put Your OPENROUTER_API_KEY here\n",
        "\n",
        "Or use whatever openai compatible key you like."
      ],
      "id": "b9001f8a-6841-405c-b0f1-1794ee5e3cfc"
    },
    {
      "cell_type": "code",
      "execution_count": null,
      "metadata": {},
      "outputs": [],
      "source": [
        "import os\n",
        "os.environ[\"OPENROUTER_API_KEY\"] = \"paste_your_api_key_here\""
      ],
      "id": "2f961270"
    },
    {
      "cell_type": "markdown",
      "metadata": {},
      "source": [
        "Now we call the api. You can use in openai compatible base_url and\n",
        "api_key. We use DeepSeek V3 but many models would work."
      ],
      "id": "ae8ea89f-7172-44d4-9c55-090651c62577"
    },
    {
      "cell_type": "code",
      "execution_count": null,
      "metadata": {},
      "outputs": [],
      "source": [
        "from openai import OpenAI\n",
        "import os\n",
        "\n",
        "try:\n",
        "    client = OpenAI(\n",
        "      base_url=\"https://openrouter.ai/api/v1\",\n",
        "      api_key=os.getenv(\"OPENROUTER_API_KEY\")\n",
        "    )\n",
        "    response = client.chat.completions.create(\n",
        "        model = \"deepseek/deepseek-chat\",\n",
        "        messages=[\n",
        "            {\"role\": \"system\", \"content\": \"You are a financial document expert assistant.\"},\n",
        "            {\"role\": \"user\", \"content\": prompt}\n",
        "        ],\n",
        "        temperature=0.0  # Using 0 temperature for more consistent responses\n",
        "    )\n",
        "    llm_response_content = response.choices[0].message.content\n",
        "\n",
        "except Exception as e:\n",
        "    print(f\"Error occurred: {str(e)}\")\n",
        "\n",
        "print(\"The LLMs response\")\n",
        "print(llm_response_content)"
      ],
      "id": "9c48dd27"
    },
    {
      "cell_type": "markdown",
      "metadata": {},
      "source": [
        "## Check the Response from the LLM\n",
        "\n",
        "We could use structred output or json output checking here as well, but\n",
        "we do not show the details of that."
      ],
      "id": "015c5180-3a39-47e5-a96d-8e10ffca7a9a"
    },
    {
      "cell_type": "code",
      "execution_count": null,
      "metadata": {},
      "outputs": [],
      "source": [
        "print(\"The income statement again so you can check the LLM response: \")\n",
        "print(income_df)"
      ],
      "id": "658f4748"
    }
  ],
  "nbformat": 4,
  "nbformat_minor": 5,
  "metadata": {
    "kernelspec": {
      "name": "python3",
      "display_name": "Python 3 (ipykernel)",
      "language": "python"
    }
  }
}