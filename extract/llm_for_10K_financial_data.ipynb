{
  "cells": [
    {
      "cell_type": "markdown",
      "metadata": {},
      "source": [
        "# Using Large Language Models to Identify Financial Concepts from 10-K Reports\n",
        "\n",
        "Open the colab notebook here:\n",
        "\n",
        "[![](https://colab.research.google.com/assets/colab-badge.svg)](https://colab.research.google.com/github/calvinw/BusMgmtBenchmarks/blob/main/extract/llm_for_10K_financial_data.ipynb)\n",
        "\n",
        "Open In Colab\n",
        "\n",
        "In this notebook we give the idea behind the extraction technique we use\n",
        "to get financial facts from annual 10-K reports. The main idea involves\n",
        "calling an LLM with a version of the income statement and the balance\n",
        "sheet from a 10-K annual report and asking it to identify some financial\n",
        "concepts we are interested in.\n",
        "\n",
        "We will use the amazingly useful\n",
        "[edgartools](https://github.com/dgunning/edgartools) package for\n",
        "filtering and finding the SEC 10-K filings for our companies.\n",
        "\n",
        "For each of our companies we are interested in identifying these\n",
        "concepts from company 10-K reports:\n",
        "\n",
        "-   Net Revenue\n",
        "-   Cost of Goods\n",
        "-   SG&A\n",
        "-   Operating Profit\n",
        "-   Net Profit\n",
        "-   Inventory\n",
        "-   Current Assets\n",
        "-   Total Assets\n",
        "-   Current Liabilities\n",
        "-   Total Shareholder Equity\n",
        "-   Total Liabilities and Shareholder Equity\n",
        "\n",
        "The reason we want to do this is so that we can build a tool that will\n",
        "allow you to easily compare these values for different companies and for\n",
        "companies and segments they belong to.\n",
        "\n",
        "We will find the latest 10-K by using the\n",
        "[edgartools](https://github.com/dgunning/edgartools) package. The code\n",
        "behind the library is a very efficient API front end for queries to the\n",
        "SEC edgar REST api.\n",
        "\n",
        "Of course once you have a mapping of the labels in the report to the\n",
        "standard gaap attributes taxonomy for the company you are interested in\n",
        "you could look the facts labeled with those attribute names on\n",
        "subsequent reports from the same company. We dont illustrate that but it\n",
        "makes sense if you need want to optimize looking up this information for\n",
        "multiple years for the same company and speed and if LLM costs are an\n",
        "issue.\n",
        "\n",
        "Our dataset is so small and the LLM costs are minimal for what we want\n",
        "so we dont pursue that kind of optimization."
      ],
      "id": "4853c071-5082-4e46-9dd8-10de5baa06f5"
    },
    {
      "cell_type": "code",
      "execution_count": null,
      "metadata": {},
      "outputs": [],
      "source": [
        "!pip install edgartools\n",
        "!pip install openai\n",
        "!pip install pandas"
      ],
      "id": "810a694f"
    },
    {
      "cell_type": "markdown",
      "metadata": {},
      "source": [
        "Do some imports and set the display to print out just 10 rows of\n",
        "dataframes."
      ],
      "id": "8241fc95-5751-450e-8356-b5653a4a9143"
    },
    {
      "cell_type": "code",
      "execution_count": null,
      "metadata": {},
      "outputs": [],
      "source": [
        "from edgar import set_identity, Company\n",
        "import pandas as pd\n",
        "pd.set_option('display.max_rows', 10)"
      ],
      "id": "40420776"
    },
    {
      "cell_type": "markdown",
      "metadata": {},
      "source": [
        "## Using Edgartools to Load the 10K for a Company\n",
        "\n",
        "You must set your email address in order for edgartools to access the\n",
        "SEC edgar website. Change “YourEmailAddress” below to be your email\n",
        "address."
      ],
      "id": "20cf09a1-8515-4755-b1e2-f73cde2035e4"
    },
    {
      "cell_type": "code",
      "execution_count": null,
      "metadata": {},
      "outputs": [],
      "source": [
        "# Set identity\n",
        "set_identity(\"YourEmailAddress\")"
      ],
      "id": "a7c4175c"
    },
    {
      "cell_type": "markdown",
      "metadata": {},
      "source": [
        "Next we use the CIK to download the latest 10K for the company. You can\n",
        "find the CIKs for companies that are American filing at the SEC website."
      ],
      "id": "1a04000d-509b-4ffd-895c-2f6ebd7595cb"
    },
    {
      "cell_type": "code",
      "execution_count": null,
      "metadata": {},
      "outputs": [],
      "source": [
        "# Use the CIK for lululemon \n",
        "cik = \"1397187\"  \n",
        "\n",
        "# Get the company object using the CIK\n",
        "company = Company(cik)\n",
        "\n",
        "# Fetch the 10-K filings\n",
        "filings = company.get_filings(form=\"10-K\")\n",
        "\n",
        "# Just get the latest 10-K\n",
        "filing = filings[0]\n",
        "filing_obj = filing.obj()"
      ],
      "id": "493c5318"
    },
    {
      "cell_type": "markdown",
      "metadata": {},
      "source": [
        "## Getting the Income Statement and the Balance Sheet as Dataframe\n",
        "\n",
        "First we get the income statement as a dataframe."
      ],
      "id": "442f97a4-25f3-424f-b671-24835ee1b406"
    },
    {
      "cell_type": "code",
      "execution_count": null,
      "metadata": {},
      "outputs": [],
      "source": [
        "income_df = filing_obj.income_statement.to_dataframe()\n",
        "income_df"
      ],
      "id": "c6516ff9"
    },
    {
      "cell_type": "markdown",
      "metadata": {},
      "source": [
        "You can see that the current year is in one column and the previous\n",
        "years after that.\n",
        "\n",
        "The labels are not a separate column, they are actually “indices” to the\n",
        "rows, so the data we want is in the first column (with index=0). So we\n",
        "can drop the columns after that since we only need the current year\n",
        "data. We use `iloc` to do that as follows:"
      ],
      "id": "8c73bf82-4e2e-4302-b7bc-ba72c53d70fa"
    },
    {
      "cell_type": "code",
      "execution_count": null,
      "metadata": {},
      "outputs": [],
      "source": [
        "income_df = income_df.iloc[:, :1]\n",
        "income_df"
      ],
      "id": "d2a5eadd"
    },
    {
      "cell_type": "markdown",
      "metadata": {},
      "source": [
        "Now we have our labels and the column of data from 2024, the latest in\n",
        "this case.\n",
        "\n",
        "This will be cleaner for sending to the LLM, it doesnt need the older\n",
        "years data\n",
        "\n",
        "Next we get the balance sheet as a dataframe. Again we just keep the\n",
        "labels and the first column that has the data we want in it"
      ],
      "id": "32beedb4-1532-4632-b401-36d85b946156"
    },
    {
      "cell_type": "code",
      "execution_count": null,
      "metadata": {},
      "outputs": [],
      "source": [
        "balance_df = filing_obj.balance_sheet.to_dataframe()\n",
        "balance_df = balance_df.iloc[:, :1]\n",
        "balance_df"
      ],
      "id": "86f1dd16"
    },
    {
      "cell_type": "markdown",
      "metadata": {},
      "source": [
        "## Compare to SEC Filing Web Page\n",
        "\n",
        "You can compare these to a copy of the report filed by the company with\n",
        "the SEC. The following html is included in company’s official report to\n",
        "the SEC and we just reproduce it here so you can compare. Every 10-K has\n",
        "this kind of html page and its any easy reference for seeing if we\n",
        "pulled the right values."
      ],
      "id": "ccd64c11-d774-4146-bea8-2c22ba196d56"
    },
    {
      "cell_type": "code",
      "execution_count": null,
      "metadata": {},
      "outputs": [],
      "source": [
        "from IPython.display import IFrame\n",
        "\n",
        "IFrame(src=\"https://calvinw.github.io/BusMgmtBenchmarks/extract/html/lululemon-2024.html\", width=900, height=900)"
      ],
      "id": "db8e30af"
    },
    {
      "cell_type": "markdown",
      "metadata": {},
      "source": [
        "## Convert the Dataframes to Markdown to Prepare for LLM Call\n",
        "\n",
        "We convert the dataframes to markdown tables to prepare to send them to\n",
        "an LLM\n",
        "\n",
        "We use the `to_markdown` method of the dataframe.\n",
        "\n",
        "Here is the income statement as markdown:"
      ],
      "id": "da3efd62-f78c-425c-8a0a-e239edf429c7"
    },
    {
      "cell_type": "code",
      "execution_count": null,
      "metadata": {},
      "outputs": [],
      "source": [
        "income_markdown_table = income_df.to_markdown(index=True, floatfmt=\".0f\")\n",
        "print(income_markdown_table)"
      ],
      "id": "46e10641"
    },
    {
      "cell_type": "markdown",
      "metadata": {},
      "source": [
        "And the balance sheet as markdown:"
      ],
      "id": "5055807b-9f00-4abf-9aff-e70ebd9c8568"
    },
    {
      "cell_type": "code",
      "execution_count": null,
      "metadata": {},
      "outputs": [],
      "source": [
        "balance_markdown_table = balance_df.to_markdown(index=True, floatfmt=\".0f\")\n",
        "print(balance_markdown_table)"
      ],
      "id": "7e928a1e"
    },
    {
      "cell_type": "markdown",
      "metadata": {},
      "source": [
        "## Prepare a Prompt for Passing the Income Statement and Balance Sheet\n",
        "\n",
        "Now we prepare a prompt to send both the income and balance sheets to\n",
        "the LLM and ask it to find some financial concepts for us. There are\n",
        "many variations of this process, you could also give common terms that\n",
        "you would find these concepts labeled as, or could include the us_gaap\n",
        "taxonomy names for some of the concepts as well.\n",
        "\n",
        "In the `edgartools` versions of the the dataframes above there are ways\n",
        "of getting the gaap attributes that the labels corresponds to for each\n",
        "of the rows. One could pass those the to LLM as well, to help it\n",
        "identify the financial concepts that you want, but we dont show that\n",
        "here.\n",
        "\n",
        "We just rely on the LLM recognizing the concept from the labels in the\n",
        "first column of the income statement and the balance report.\n",
        "\n",
        "Here’s our prompt with our list of concepts and template variables for\n",
        "the income statement and the balance sheet. This f-string will get\n",
        "filled in with those."
      ],
      "id": "220facf0-52af-40c0-9be2-281b45e07a10"
    },
    {
      "cell_type": "code",
      "execution_count": null,
      "metadata": {},
      "outputs": [],
      "source": [
        "prompt = f\"\"\"Below is a list of financial concepts (given inside the <concepts>\n",
        "tags) to be found in the income statement and the balance sheet of a companies\n",
        "10-K report. \n",
        "\n",
        "<concepts>\n",
        "Net Revenue\n",
        "Cost of Goods\n",
        "SG&A\n",
        "Operating Profit\n",
        "Net Profit\n",
        "Inventory\n",
        "Current Assets\n",
        "Total Assets\n",
        "Current Liabilities\n",
        "Total Shareholder Equity\n",
        "Total Liabilities and Shareholder Equity\n",
        "</concepts>\n",
        "\n",
        "Find the concepts and their values in the income statement or the balance\n",
        "sheet that follow. \n",
        "\n",
        "The income statement is enclosed in  <income_statment> tags. \n",
        "The balance sheet is enclosed in <balance_sheet> tags.\n",
        "\n",
        "Here is the income statement:\n",
        "\n",
        "<income_statement>\n",
        "{income_markdown_table}\n",
        "</income_statement>\n",
        "\n",
        "Here is the balance sheet:\n",
        "\n",
        "<balance_sheet>\n",
        "{balance_markdown_table}\n",
        "</balance_sheet>\n",
        "\n",
        "Please return the values found as strings in a json format as follows. Make\n",
        "sure to provide a number for every concept. Respond only with with the\n",
        "following format, no other commentary or discussion\n",
        "\n",
        "The Response Format:\n",
        "```json\n",
        "{{\n",
        "    \"Net Revenue\": <value>,\n",
        "    \"Cost of Goods\": <value>, \n",
        "    \"SG&A\":  <value>,\n",
        "    \"Operating Profit\": <value>,\n",
        "    \"Net Profit\": <value>,\n",
        "    \"Inventory\": <value>,\n",
        "    \"Current Assets\": <value>,\n",
        "    \"Total Assets\": <value>,\n",
        "    \"Current Liabilities\": <value>,\n",
        "    \"Total Shareholder Equity\": <value>,\n",
        "    \"Total Liabilities and Shareholder Equity\": <value>\n",
        "}}\n",
        "```\"\"\""
      ],
      "id": "37c8c680"
    },
    {
      "cell_type": "markdown",
      "metadata": {},
      "source": [
        "Lets take a look at the prompt before we send it:"
      ],
      "id": "db1bdf05-937b-416f-a9fa-490ddb59f3b0"
    },
    {
      "cell_type": "code",
      "execution_count": null,
      "metadata": {},
      "outputs": [],
      "source": [
        "print(prompt)"
      ],
      "id": "60a16d3b"
    },
    {
      "cell_type": "markdown",
      "metadata": {},
      "source": [
        "## Pass the Prompt to an Large Language Model\n",
        "\n",
        "We use openai compatible call to OpenRouter but you could use any openai\n",
        "compatible api and key. A good model at the time of writing is\n",
        "DeepSeek-V3, but many models would work well here. I believe many of the\n",
        "lightweight 8B models would work. Gemini Flash 1.5 or 2.0, gpt-4o-mini\n",
        "all work great. Im sure there are many of the more inexpensive models\n",
        "that would work as well.\n",
        "\n",
        "### Set Up Your LLM Provider\n",
        "\n",
        "Paste in the key to your LLM provider as appropriate. You should change\n",
        "the base_url and the environment variable to be appropriate for your\n",
        "situation.\n",
        "\n",
        "As long as the api you are using is openai compatible you should be\n",
        "fine."
      ],
      "id": "a6e78e5d-5e0a-454a-a5eb-c4fcaf3033fe"
    },
    {
      "cell_type": "code",
      "execution_count": null,
      "metadata": {},
      "outputs": [],
      "source": [
        "import os\n",
        "os.environ[\"OPENROUTER_API_KEY\"] = \"paste_your_api_key_here\""
      ],
      "id": "91f00e08"
    },
    {
      "cell_type": "markdown",
      "metadata": {},
      "source": [
        "Now we call the api. Fix the base_url and api_key. We use DeepSeek V3\n",
        "but many models would work."
      ],
      "id": "83f61c96-1d80-4e39-a491-dc4be9bc5fbd"
    },
    {
      "cell_type": "code",
      "execution_count": null,
      "metadata": {},
      "outputs": [],
      "source": [
        "from openai import OpenAI\n",
        "import os\n",
        "\n",
        "try:\n",
        "    client = OpenAI(\n",
        "      base_url=\"https://openrouter.ai/api/v1\",\n",
        "      api_key=os.getenv(\"OPENROUTER_API_KEY\")\n",
        "    )\n",
        "    response = client.chat.completions.create(\n",
        "        model = \"deepseek/deepseek-chat\",\n",
        "        messages=[\n",
        "            {\"role\": \"system\", \"content\": \"You are a financial document expert assistant.\"},\n",
        "            {\"role\": \"user\", \"content\": prompt}\n",
        "        ],\n",
        "        temperature=0.0  # Using 0 temperature for more consistent responses\n",
        "    )\n",
        "    llm_response_content = response.choices[0].message.content\n",
        "\n",
        "except Exception as e:\n",
        "    print(f\"Error occurred: {str(e)}\")\n",
        "\n",
        "print(\"The LLMs response\")\n",
        "print(llm_response_content)"
      ],
      "id": "a529c3d8"
    },
    {
      "cell_type": "markdown",
      "metadata": {},
      "source": [
        "## Check the Response from the LLM\n",
        "\n",
        "We could use structred output or json output checking here as well, but\n",
        "we do not show the details of that."
      ],
      "id": "8761a10a-4bb9-44b2-ba00-0d80d5b03617"
    },
    {
      "cell_type": "code",
      "execution_count": null,
      "metadata": {},
      "outputs": [],
      "source": [
        "print(\"The income statement again so you can check some of the LLM response: \")\n",
        "print(income_markdown_table)"
      ],
      "id": "697fa664"
    }
  ],
  "nbformat": 4,
  "nbformat_minor": 5,
  "metadata": {
    "kernelspec": {
      "name": "python3",
      "display_name": "Python 3 (ipykernel)",
      "language": "python"
    }
  }
}
